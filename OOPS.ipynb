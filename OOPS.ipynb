{
  "nbformat": 4,
  "nbformat_minor": 0,
  "metadata": {
    "colab": {
      "provenance": []
    },
    "kernelspec": {
      "name": "python3",
      "display_name": "Python 3"
    },
    "language_info": {
      "name": "python"
    }
  },
  "cells": [
    {
      "cell_type": "markdown",
      "source": [
        "#**Python OOPs Questions**"
      ],
      "metadata": {
        "id": "eJ5P2HKdA1Yn"
      }
    },
    {
      "cell_type": "markdown",
      "source": [
        "##**1. What is Object-Oriented Programming (OOP)?**\n",
        "\n",
        "Object-Oriented Programming (OOP) is a programming paradigm that organizes software design around objects, which are instances of classes. OOP focuses on data (attributes) and behaviors (methods) that belong to these objects, making code more modular, reusable, and scalable.\n",
        "\n",
        "**Key Concepts of OOP**\n",
        "\n",
        "**1. Classes & Objects**\n",
        "\n",
        "* A class is a blueprint for creating objects. It defines properties (attributes) and behaviors (methods).\n",
        "\n",
        "* An object is an instance of a class with actual values.\n",
        "\n",
        "**2. Encapsulation**\n",
        "\n",
        "* Hides internal object details and only exposes necessary parts.\n",
        "\n",
        "* Achieved through private, public, and protected access modifiers.\n",
        "\n",
        "**3. Abstraction**\n",
        "\n",
        "* Hides complex implementation details and only shows the necessary functionality.\n",
        "\n",
        "* Example: A car's steering wheel allows turning without knowing the inner mechanics.\n",
        "\n",
        "**4. Inheritance**\n",
        "\n",
        "* Allows a class (child) to inherit properties and behaviors from another class (parent).\n",
        "\n",
        "* Helps code reuse and hierarchy creation.\n",
        "\n",
        "**5. Polymorphism**\n",
        "\n",
        "* The ability to present the same interface for different data types.\n",
        "\n",
        "* Achieved through method overriding (changing inherited methods) and method overloading (multiple methods with the same name but different parameters)."
      ],
      "metadata": {
        "id": "P0hpnOHcBA5O"
      }
    },
    {
      "cell_type": "markdown",
      "source": [
        "## **2. What is a class in OOP?**\n",
        "\n",
        "A class in Object-Oriented Programming (OOP) is a blueprint or template for creating objects. It defines the attributes (data/variables) and methods (functions/behaviors) that the objects will have.\n",
        "\n",
        "**Key Features of a Class:**\n",
        "\n",
        "* **Encapsulation:** Groups related data and functions together.\n",
        "\n",
        "* **Reusability:** Once a class is defined, multiple objects can be created from it.\n",
        "\n",
        "* **Abstraction:** Hides the implementation details, exposing only necessary functionalities."
      ],
      "metadata": {
        "id": "o5lYFqiHCFY7"
      }
    },
    {
      "cell_type": "markdown",
      "source": [
        "## **3. What is an object in OOP?**\n",
        "\n",
        "An object in Object-Oriented Programming (OOP) is an instance of a class. It represents a real-world entity with attributes (data) and methods (behaviors) defined by the class.\n",
        "\n",
        "**Key Characteristics of an Object:**\n",
        "\n",
        "* Identity – Each object has a unique identity in memory.\n",
        "\n",
        "* State (Attributes) – The values stored in an object’s properties.\n",
        "\n",
        "* Behavior (Methods) – The actions that an object can perform.\n",
        "."
      ],
      "metadata": {
        "id": "CQ2lG22xCmUt"
      }
    },
    {
      "cell_type": "markdown",
      "source": [
        "## **4. What is the difference between abstraction and encapsulation?**\n",
        "\n",
        "* **Abstraction and Encapsulation** are both OOP concepts, but they serve different purposes.\n",
        "\n",
        "* Abstraction focuses on hiding complex implementation details and exposing only the necessary features, allowing users to interact with an object without knowing its inner workings. It is achieved through abstract classes and interfaces.\n",
        "\n",
        "* On the other hand, Encapsulation is about bundling data and methods together while restricting direct access to the internal state of an object. It ensures data security by using access modifiers like private and protected.\n",
        "\n",
        "* In simple terms, abstraction is about hiding the \"how\", while encapsulation is about hiding the \"what\" and protecting data."
      ],
      "metadata": {
        "id": "0hbDfKl6C5SM"
      }
    },
    {
      "cell_type": "markdown",
      "source": [
        "## **5. What are dunder methods in Python?**\n",
        "\n",
        "* Dunder methods (short for \"double underscore\" methods) in Python are special methods with names that begin and end with two underscores, like __init__, __str__, __len__, etc.\n",
        "\n",
        "* They're also known as magic methods and are used to implement behavior for built-in operations, such as: Object creation, String representation, Arithmetic operations, Comparisons, Context management (with statements),Iteration and more.\n",
        "\n",
        "**1. __init__(self, ...)**\n",
        "\n",
        "* Purpose: Initializes a new object when it's created.\n",
        "\n",
        "* Example: Called automatically when you do obj = MyClass().\n",
        "\n",
        "* Think of it as: The constructor.\n",
        "\n",
        "**2. __str__(self)**\n",
        "\n",
        "* Purpose: Returns a readable string version of the object (for end users).\n",
        "\n",
        "* Used by: The print() function or str(obj).\n",
        "\n",
        "* Example: print(obj) will show what this method returns.\n",
        "\n",
        "**3. __repr__(self)**\n",
        "\n",
        "* Purpose: Returns a string that represents the object (for developers).\n",
        "\n",
        "* Used by: repr(obj) or when you inspect the object in a shell.\n",
        "\n",
        "* Goal: To be unambiguous, and ideally, eval(repr(obj)) should recreate the object.\n",
        "\n",
        "**4. __len__(self)**\n",
        "\n",
        "* Purpose: Returns the \"length\" of the object.\n",
        "\n",
        "* Used by: The len() function.\n",
        "\n",
        "* Common use: Lists, strings, or any collection-like object.\n",
        "\n",
        "**5. __getitem__(self, key)**\n",
        "\n",
        "* Purpose: Enables indexing or key access.\n",
        "\n",
        "* Used by: obj[key]\n",
        "\n",
        "* Example: Used to make your object behave like a list or dictionary.\n",
        "\n",
        "**6. __setitem__(self, key, value)**\n",
        "\n",
        "* Purpose: Allows assignment to an index or key.\n",
        "\n",
        "* Used by: obj[key] = value\n",
        "\n",
        "**7. __iter__(self) and __next__(self)**\n",
        "\n",
        "* Purpose: Make your object iterable (e.g., in a for loop).\n",
        "\n",
        "* __iter__: Returns the iterator object (often self).\n",
        "\n",
        "* __next__: Returns the next value or raises StopIteration.\n",
        "\n",
        "**8. __eq__(self, other)**\n",
        "\n",
        "* Purpose: Defines equality behavior.\n",
        "\n",
        "* Used by: The == operator.\n",
        "\n",
        "**9. __add__(self, other)**\n",
        "\n",
        "* Purpose: Defines addition behavior.\n",
        "\n",
        "* Used by: The + operator.\n",
        "\n",
        "* You can also override: __sub__, __mul__, __truediv__, etc. for other arithmetic operations.\n",
        "\n",
        "**10. __call__(self, ...)**\n",
        "\n",
        "* Purpose: Makes an object callable like a function.\n",
        "\n",
        "* Used by: obj() if obj is an instance of a class that implements __call__.\n",
        "\n",
        "**11. __enter__ and __exit__**\n",
        "\n",
        "* Purpose: Used in context managers (with statements).\n",
        "\n",
        "* __enter__: Called when the block starts.\n",
        "\n",
        "* __exit__: Called when the block exits, handles cleanup or exceptions.\n",
        "\n"
      ],
      "metadata": {
        "id": "sGTYB1eAdKeX"
      }
    },
    {
      "cell_type": "markdown",
      "source": [
        "## **6. Explain the concept of inheritance in OOPS.**\n",
        "\n",
        "* Inheritance is an OOP feature that allows a class (child/subclass) to inherit the properties and behaviors (methods) of another class (parent/superclass).\n",
        "\n",
        "* It helps promote code reuse, hierarchical classification, and makes code more organized and easier to maintain.\n",
        "\n",
        "**Basic Idea:**\n",
        "\n",
        "* You define a base (parent) class with common attributes and methods.\n",
        "\n",
        "* Then you create derived (child) classes that automatically get those attributes and methods.\n",
        "\n",
        "* The child class can add new features or override existing ones.\n",
        "\n",
        "**Python Example:**\n",
        "\n",
        "    # Parent class\n",
        "    class Animal:\n",
        "        def speak(self):\n",
        "          return \"Some sound\"\n",
        "\n",
        "    # Child class\n",
        "    class Dog(Animal):\n",
        "        def speak(self):\n",
        "          return \"Bark\"\n",
        "\n",
        "    # Another child class\n",
        "    class Cat(Animal):\n",
        "        def speak(self):\n",
        "          return \"Meow\"\n",
        "\n",
        "    # Using the classes\n",
        "    d = Dog()\n",
        "    c = Cat()\n",
        "\n",
        "    print(d.speak())  # Bark\n",
        "    print(c.speak())  # Meow\n",
        "\n",
        "**Why Use Inheritance?**\n",
        "\n",
        "* Code Reuse – Avoids rewriting shared functionality.\n",
        "\n",
        "* Extensibility – Add or change behavior in child classes easily.\n",
        "\n",
        "* Polymorphism – You can treat objects of different child classes as if they are of the parent type.\n",
        "\n",
        "**Types of Inheritance:**\n",
        "\n",
        "* Single Inheritance – One child inherits from one parent.\n",
        "\n",
        "* Multiple Inheritance – One child inherits from multiple parents.\n",
        "\n",
        "* Multilevel Inheritance – Inheritance chain (A → B → C).\n",
        "\n",
        "* Hierarchical Inheritance – One parent, multiple children.\n",
        "\n",
        "* Hybrid Inheritance – Combination of two or more types."
      ],
      "metadata": {
        "id": "ayB0kzO6frJ_"
      }
    },
    {
      "cell_type": "markdown",
      "source": [
        "## **7. What is polymorphism in OOP?**\n",
        "\n",
        "* In OOP, polymorphism allows objects of different classes to be treated as objects of a common parent class, particularly when they share methods with the same name but behave differently.\n",
        "\n",
        "* Different classes can define a method with the same name, but each class can implement it differently. You can then write code that works on the base class, and it will automatically work correctly for any derived class.\n",
        "\n",
        "**Python Example:**\n",
        "\n",
        "    class Animal:\n",
        "      def speak(self):\n",
        "        return \"Some sound\"\n",
        "\n",
        "    class Dog(Animal):\n",
        "      def speak(self):\n",
        "        return \"Bark\"\n",
        "\n",
        "    class Cat(Animal):\n",
        "      def speak(self):\n",
        "        return \"Meow\"\n",
        "\n",
        "    # Polymorphism in action\n",
        "    def make_sound(animal):\n",
        "      print(animal.speak())\n",
        "\n",
        "    make_sound(Dog())  # Bark\n",
        "    make_sound(Cat())  # Meow\n",
        "    \n",
        "    # Here, the make_sound() function doesn’t care if it gets a Dog or Cat — it just knows it has to call speak(). This is polymorphism.\n",
        "\n",
        "**Benefits of Polymorphism**\n",
        "\n",
        "* Code Flexibility – Write general-purpose functions.\n",
        "\n",
        "* Easier Maintenance – Add new behaviors without changing existing code.\n",
        "\n",
        "* Improved Readability – Reduces clutter from conditionals (if...else).\n",
        "\n",
        "**Types of Polymorphism**\n",
        "\n",
        "* Compile-time (Static) – Not really used in Python, but common in languages like Java/C++ via method overloading.\n",
        "\n",
        "* Run-time (Dynamic) – Python supports this. Method behavior is decided at runtime, like in the speak() example.\n",
        "\n",
        "**Real-World Analogy**\n",
        "\n",
        "Imagine a remote control (common interface) — you can use it to control a TV, an AC, or a speaker. Even though each device does something different when you press \"power,\" the interface remains the same."
      ],
      "metadata": {
        "id": "BnBOHTq5hRgj"
      }
    },
    {
      "cell_type": "markdown",
      "source": [
        "## **8.  How is encapsulation achieved in Python?**\n",
        "\n",
        "Python doesn’t have strict access modifiers like private, protected, or public like some other languages (e.g., Java or C++), but it uses convention and name mangling to achieve encapsulation.\n",
        "\n",
        "**1. Public Members**\n",
        "\n",
        "Accessible from anywhere — by default, all attributes and methods are public.\n",
        "\n",
        "    class Car:\n",
        "      def __init__(self):\n",
        "        self.brand = \"Toyota\"  # Public attribute\n",
        "\n",
        "**2. Protected Members (by convention)**\n",
        "\n",
        "Prefix with a single underscore _. Meant to be used only within the class or subclasses.\n",
        "\n",
        "    class Car:\n",
        "      def __init__(self):\n",
        "        self._speed = 60  # Protected attribute (by convention)\n",
        "\n",
        "**3. Private Members**\n",
        "\n",
        "Prefix with double underscore __. Python uses name mangling to make it harder to access from outside.\n",
        "\n",
        "    class Car:\n",
        "      def __init__(self):\n",
        "        self.__engine_number = \"ABC123\"  # Private attribute\n",
        "\n",
        "      def get_engine_number(self):\n",
        "        return self.__engine_number  # Controlled access\n",
        "\n",
        "    car = Car()\n",
        "    print(car.get_engine_number())  # Allowed\n",
        "    print(car.__engine_number)      # Raises AttributeError\n",
        "\n",
        "    # But it can still be accessed (not recommended) like this:\n",
        "\n",
        "    print(car._Car__engine_number)  # Works because of name mangling\n",
        "\n",
        "**Benefits of Encapsulation**\n",
        "\n",
        "* Protects data integrity\n",
        "\n",
        "* Prevents accidental changes\n",
        "\n",
        "* Encourages use of getter/setter methods\n",
        "\n",
        "* Improves modularity and code maintainability"
      ],
      "metadata": {
        "id": "hKaXfSewkgX3"
      }
    },
    {
      "cell_type": "markdown",
      "source": [
        "## **9. What is a constructor in Python?**\n",
        "\n",
        "A constructor in Python is a special method that is automatically called when a new object of a class is created. Its main job is to initialize the object’s attributes (i.e., set them up with default or passed-in values).\n",
        "\n",
        "**In Python, the constructor method is:** __init__()\n",
        "\n",
        "* It’s a dunder method (because it starts and ends with double underscores).\n",
        "\n",
        "* Defined inside a class.\n",
        "\n",
        "* Called automatically when you create an instance of the class.\n",
        "\n",
        "**Basic Example:**\n",
        "\n",
        "    class Person:\n",
        "      def __init__(self, name, age):\n",
        "          self.name = name    # setting attribute\n",
        "          self.age = age\n",
        "\n",
        "    # Creating an object\n",
        "    p1 = Person(\"Alice\", 25)\n",
        "\n",
        "    print(p1.name)  # Alice\n",
        "    print(p1.age)   # 25\n",
        "\n",
        "    # When you run Person(\"Alice\", 25), Python:\n",
        "\n",
        "    # Creates the object (p1)\n",
        "\n",
        "    # Calls __init__() and passes in \"Alice\" and 25\n",
        "\n",
        "    # Initializes the name and age attributes for p1\n",
        "\n",
        "**Key Features of __init__:**\n",
        "\n",
        "* The first parameter is always self (refers to the current object).\n",
        "\n",
        "* You can pass as many additional parameters as needed.\n",
        "\n",
        "* You can also define default values for flexibility.\n",
        "\n",
        "    class Car:\n",
        "      def __init__(self, brand=\"Toyota\"):\n",
        "        self.brand = brand\n",
        "\n",
        "      c1 = Car()\n",
        "      c2 = Car(\"Honda\")\n",
        "\n",
        "      print(c1.brand)  # Toyota\n",
        "      print(c2.brand)  # Honda"
      ],
      "metadata": {
        "id": "vrCG7jsiX7q4"
      }
    },
    {
      "cell_type": "markdown",
      "source": [
        "## **10. What are class and static methods in Python?**\n",
        "\n",
        "**1. Class Methods**\n",
        "\n",
        "A class method is a method that operates on the class itself, not on an instance of the class.\n",
        "\n",
        "**Syntax:**\n",
        "\n",
        "Use the @classmethod decorator. The first argument is always cls (refers to the class, just like self refers to the instance).\n",
        "\n",
        "    class MyClass:\n",
        "      counter = 0\n",
        "\n",
        "      @classmethod\n",
        "      def increment_counter(cls):\n",
        "        cls.counter += 1\n",
        "\n",
        "**Use Cases:**\n",
        "\n",
        "* Modifying class-level data.\n",
        "\n",
        "* Creating alternate constructors.\n",
        "\n",
        "**Example:**\n",
        "\n",
        "    class Person:\n",
        "      def __init__(self, name):\n",
        "        self.name = name\n",
        "\n",
        "      @classmethod\n",
        "      def from_string(cls, name_str):\n",
        "        return cls(name_str.strip().title())\n",
        "\n",
        "      p = Person.from_string(\"  alice  \")\n",
        "      print(p.name)  # Alice\n",
        "\n",
        "**2. Static Methods**\n",
        "\n",
        "A static method doesn't access the instance (self) or the class (cls). It's just like a regular function, but it’s placed inside a class for logical grouping.\n",
        "\n",
        "**Syntax:**\n",
        "\n",
        "Use the @staticmethod decorator. No self or cls needed.\n",
        "\n",
        "    class Math:\n",
        "    @staticmethod\n",
        "      def add(a, b):\n",
        "        return a + b\n",
        "\n",
        "**Use Cases:**\n",
        "\n",
        "Utility/helper functions related to the class, but not dependent on class or instance data.\n",
        "\n",
        "**Example:**\n",
        "\n",
        "    class Temperature:\n",
        "      @staticmethod\n",
        "      def celsius_to_fahrenheit(c):\n",
        "        return (c * 9/5) + 32\n",
        "\n",
        "      print(Temperature.celsius_to_fahrenheit(30))  # 86.0"
      ],
      "metadata": {
        "id": "khEvaHLmaMdb"
      }
    },
    {
      "cell_type": "markdown",
      "source": [
        "## **11. What is method overloading in Python?**\n",
        "\n",
        "* Method Overloading is a concept in Object-Oriented Programming where multiple methods in the same class can have the same name but different parameters (number or type).\n",
        "\n",
        "* Unlike some other languages like Java or C++, Python does not support true method overloading. If you define multiple methods with the same name in a class, only the last one will be kept, and the previous ones will be overwritten.\n",
        "\n",
        "**Example of what doesn't work:**\n",
        "\n",
        "    class Demo:\n",
        "      def show(self, a):\n",
        "        print(\"One argument:\", a)\n",
        "\n",
        "      def show(self, a, b):  # This overwrites the first one\n",
        "        print(\"Two arguments:\", a, b)\n",
        "\n",
        "      d = Demo()\n",
        "      d.show(1)  # ❌ TypeError: missing 1 required positional argument\n",
        "\n",
        "**So how do we simulate method overloading in Python?\n",
        "You can use:**\n",
        "\n",
        "* Default arguments\n",
        "\n",
        "* Variable-length arguments (*args, **kwargs)\n",
        "\n",
        "* Type checking inside the method\n",
        "\n",
        "**Example using default and variable arguments:**\n",
        "\n",
        "    class Calculator:\n",
        "      def add(self, a, b=0, c=0):\n",
        "        return a + b + c\n",
        "\n",
        "      calc = Calculator()\n",
        "      print(calc.add(5))         # 5\n",
        "      print(calc.add(5, 10))     # 15\n",
        "      print(calc.add(5, 10, 15)) # 30\n",
        "\n",
        "**Example using *args:**\n",
        "\n",
        "    class Demo:\n",
        "      def show(self, *args):\n",
        "        if len(args) == 1:\n",
        "            print(\"One argument:\", args[0])\n",
        "        elif len(args) == 2:\n",
        "            print(\"Two arguments:\", args[0], args[1])\n",
        "        else:\n",
        "            print(\"Unsupported number of arguments\")\n",
        "\n",
        "      d = Demo()\n",
        "      d.show(10)         # One argument\n",
        "      d.show(10, 20)     # Two arguments\n",
        "      d.show(10, 20, 30) # Unsupported number of arguments\n",
        "\n",
        "\n",
        "\n"
      ],
      "metadata": {
        "id": "t9kIwZqwcDVs"
      }
    },
    {
      "cell_type": "markdown",
      "source": [
        "## **12. What is method overriding in OOP?**\n",
        "\n",
        "* Method overriding occurs when a subclass (child class) provides a specific implementation of a method that is already defined in its superclass (parent class).\n",
        "\n",
        "* The method in the child class has the same name, parameters, and signature as the one in the parent class, but the behavior is redefined.\n",
        "\n",
        "**Why use it?**\n",
        "\n",
        "* To customize or extend the functionality of a parent class.\n",
        "\n",
        "* To follow the \"same interface, different behavior\" principle.\n",
        "\n",
        "* It’s a key part of achieving runtime polymorphism.\n",
        "\n",
        "      class Animal:\n",
        "        def speak(self):\n",
        "          return \"Some sound\"\n",
        "\n",
        "      class Dog(Animal):\n",
        "        def speak(self):\n",
        "          return \"Bark\"\n",
        "\n",
        "      class Cat(Animal):\n",
        "        def speak(self):\n",
        "          return \"Meow\"\n",
        "\n",
        "      # Usage\n",
        "      animals = [Dog(), Cat()]\n",
        "      for animal in animals:\n",
        "        print(animal.speak())\n",
        "    \n",
        "      # Output:\n",
        "      Bark\n",
        "      Meow"
      ],
      "metadata": {
        "id": "JvdqE250dkEm"
      }
    },
    {
      "cell_type": "markdown",
      "source": [
        "## **13. What is a property decorator in Python?**\n",
        "\n",
        "The @property decorator allows you to define a method that can be accessed like an attribute, which means you can hide the implementation details behind a clean, attribute-like interface.\n",
        "\n",
        "**It's commonly used to:**\n",
        "\n",
        "* Add getter (read) behavior.\n",
        "\n",
        "* Later extend with setter (write) and deleter behavior — while still using the same syntax as a regular attribute.\n",
        "\n",
        "**Why use @property?**\n",
        "\n",
        "* To add logic/validation when getting or setting an attribute.\n",
        "\n",
        "* To make a read-only attribute.\n",
        "\n",
        "* To avoid breaking code if the implementation changes later.\n",
        "\n",
        "    \n",
        "    class Circle:\n",
        "    def __init__(self, radius):\n",
        "        self._radius = radius  # \"Private\" variable\n",
        "\n",
        "    @property\n",
        "    def radius(self):\n",
        "        return self._radius\n",
        "\n",
        "    @radius.setter\n",
        "    def radius(self, value):\n",
        "        if value < 0:\n",
        "            raise ValueError(\"Radius cannot be negative\")\n",
        "        self._radius = value\n",
        "\n",
        "    @property\n",
        "    def area(self):\n",
        "        from math import pi\n",
        "        return pi * self._radius ** 2\n",
        "    \n",
        "    # Usage:\n",
        "\n",
        "    c = Circle(5)\n",
        "\n",
        "    print(c.radius)  # Access like an attribute → 5\n",
        "    c.radius = 10    # Setter is called\n",
        "    print(c.area)    # Calculated dynamically → 314.15..."
      ],
      "metadata": {
        "id": "_tPnURVpiaqa"
      }
    },
    {
      "cell_type": "markdown",
      "source": [
        "## **14. Why is polymorphism important in OOP?**\n",
        "\n",
        "Polymorphism means \"many forms\" — in OOP, it allows objects of different classes to be treated through a common interface, usually the parent class, while still behaving differently.\n",
        "\n",
        "**Why is Polymorphism Important?**\n",
        "\n",
        "**1. Flexibility & Reusability**\n",
        "\n",
        "You can write code that works with multiple types of objects, as long as they share a common method or base class. This makes your code more flexible and reusable.\n",
        "\n",
        "    def make_sound(animal):\n",
        "    print(animal.speak())\n",
        "    \n",
        "    # Whether animal is a Dog, Cat, or Bird, this function works — no need to rewrite it.\n",
        "\n",
        "**2. Extensibility**\n",
        "\n",
        "* You can easily extend your program with new classes and behaviors without changing existing code.\n",
        "\n",
        "* Add a new class like Lion with its own speak() method — and all the code using the Animal interface will still work.\n",
        "\n",
        "**3. Cleaner Code (Less Conditionals)**\n",
        "\n",
        "Without polymorphism, you'd often write large if-elif-else blocks:\n",
        "\n",
        "    if type(animal) == Dog:\n",
        "    animal.bark()\n",
        "    elif type(animal) == Cat:\n",
        "    animal.meow()\n",
        "\n",
        "    #With polymorphism:\n",
        "\n",
        "    animal.speak()  # cleaner and more elegant\n",
        "\n",
        "**4. Supports Design Principles**\n",
        "\n",
        "* Encourages the Open/Closed Principle (open for extension, closed for modification).\n",
        "\n",
        "* Helps with loose coupling, where code components depend on abstract interfaces rather than specific implementations.\n",
        "\n",
        "**5. Polymorphism + Inheritance = Powerful Combo**\n",
        "\n",
        "Polymorphism works closely with inheritance, allowing you to define a general class (like Shape) and create specific classes (like Circle, Rectangle, Triangle) that override common methods like draw().\n",
        "\n",
        "**Polymorphism makes your code:**\n",
        "\n",
        "* More flexible\n",
        "\n",
        "* More maintainable\n",
        "\n",
        "* Easier to extend\n",
        "\n",
        "* Cleaner and less repetitive\n",
        "\n"
      ],
      "metadata": {
        "id": "wBRaYDJDjM4h"
      }
    },
    {
      "cell_type": "markdown",
      "source": [
        "## **15. What is an abstract class in Python?**\n",
        "\n",
        "* An abstract class is a blueprint for other classes. It cannot be instantiated directly and often contains abstract methods — methods that are declared but have no implementation in the base class.\n",
        "\n",
        "* Child classes that inherit from an abstract class must override those abstract methods.\n",
        "\n",
        "**Why Use Abstract Classes?**\n",
        "\n",
        "* To define a common interface for all subclasses.\n",
        "\n",
        "* To force subclasses to implement certain methods.\n",
        "\n",
        "* To provide default behavior in the base class (optional).\n",
        "\n",
        "\n",
        "**How to Create an Abstract Class in Python**\n",
        "    \n",
        "    # Use the abc module (abc = Abstract Base Classes):\n",
        "\n",
        "\n",
        "    from abc import ABC, abstractmethod\n",
        "\n",
        "    class Animal(ABC):  # Inherit from ABC\n",
        "      @abstractmethod\n",
        "      def speak(self):  # Abstract method\n",
        "        pass"
      ],
      "metadata": {
        "id": "igrl1KE-l1RA"
      }
    },
    {
      "cell_type": "markdown",
      "source": [
        "## **16. What are the advantages of OOP?**\n",
        "\n",
        "**1. Reusability (DRY Principle)**\n",
        "\n",
        "You can reuse classes across multiple projects or within the same project by using inheritance.\n",
        "\n",
        "    class Animal:\n",
        "      def speak(self):\n",
        "        print(\"Animal sound\")\n",
        "\n",
        "    class Dog(Animal):\n",
        "      pass\n",
        "\n",
        "    dog = Dog()\n",
        "    dog.speak()  # Reuses method from Animal\n",
        "\n",
        "**2. Modularity**\n",
        "\n",
        "* Your code is organized into classes and objects, making it easier to manage, understand, and debug.\n",
        "\n",
        "* Each class is a self-contained module.\n",
        "\n",
        "* You can work on individual pieces without affecting others.\n",
        "\n",
        "**3. Encapsulation**\n",
        "\n",
        "Data and methods are wrapped together, protecting internal object state from outside interference.\n",
        "\n",
        "    class BankAccount:\n",
        "      def __init__(self):\n",
        "        self.__balance = 0  # private\n",
        "\n",
        "      def deposit(self, amount):\n",
        "        self.__balance += amount\n",
        "\n",
        "✔ Keeps data safe and secure\n",
        "\n",
        "✔ Provides controlled access through getters/setters or @property\n",
        "\n",
        "**4. Polymorphism**\n",
        "\n",
        "Different classes can use the same interface and behave differently.\n",
        "\n",
        "    class Cat:\n",
        "      def speak(self):\n",
        "        return \"Meow\"\n",
        "\n",
        "    class Dog:\n",
        "      def speak(self):\n",
        "        return \"Bark\"\n",
        "\n",
        "    def animal_sound(animal):\n",
        "      print(animal.speak())\n",
        "\n",
        "    animal_sound(Dog())  # Bark\n",
        "    animal_sound(Cat())  # Meow\n",
        "\n",
        "✔ Enables flexible and scalable code\n",
        "✔ Great for working with collections of objects that share behavior\n",
        "\n",
        "**5. Inheritance**\n",
        "\n",
        "Lets you create new classes from existing ones, reusing and extending functionality.\n",
        "\n",
        "    class Vehicle:\n",
        "      def start(self):\n",
        "        print(\"Starting...\")\n",
        "\n",
        "    class Car(Vehicle):\n",
        "      def start(self):\n",
        "        print(\"Car starting...\")\n",
        "\n",
        "    Car().start()  # Car starting...\n",
        "\n",
        "✔ Avoids code duplication\n",
        "\n",
        "✔ Allows for hierarchical classification (e.g., Animal → Dog, Cat)\n",
        "\n",
        "**6. Real-world Mapping**\n",
        "\n",
        "* OOP helps model real-world entities as objects. Think of: Car, Employee, User, BankAccount, etc.\n",
        "\n",
        "✔ Makes software design intuitive and easier to communicate\n",
        "\n",
        "✔ Supports domain-driven design\n",
        "\n",
        "**7. Maintainability & Scalability**\n",
        "\n",
        "* Changes in one class have minimal impact elsewhere.\n",
        "\n",
        "* Easy to extend features without rewriting the whole system.\n",
        "\n",
        "* Better code organization leads to easier debugging and testing.\n",
        "\n",
        "**8. Testability**\n",
        "\n",
        "* Since OOP encourages modular, self-contained code:\n",
        "\n",
        "* Each class can be tested independently.\n",
        "\n",
        "* Unit testing becomes easier.\n",
        "\n",
        "![image.png](data:image/png;base64,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)\n",
        "\n"
      ],
      "metadata": {
        "id": "c1M_u2VRml1i"
      }
    },
    {
      "cell_type": "markdown",
      "source": [
        "## **17. What is the difference between a class variable and an instance variable?**\n",
        "\n",
        "![image.png](data:image/png;base64,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)\n",
        "\n",
        "* Class variable = one copy for the whole class\n",
        "\n",
        "* Instance variable = each object gets its own\n",
        "\n",
        "**Example:**\n",
        "\n",
        "    class Dog:\n",
        "      species = \"Canis familiaris\"  # Class variable (shared)\n",
        "\n",
        "      def __init__(self, name, age):\n",
        "        self.name = name          # Instance variable\n",
        "        self.age = age            # Instance variable\n",
        "    \n",
        "    # Usage:\n",
        "\n",
        "    dog1 = Dog(\"Buddy\", 3)\n",
        "    dog2 = Dog(\"Charlie\", 5)\n",
        "\n",
        "    print(dog1.species)  # Canis familiaris\n",
        "    print(dog2.species)  # Canis familiaris\n",
        "\n",
        "    # Changing instance variable\n",
        "    dog1.name = \"Max\"\n",
        "    print(dog1.name)  # Max\n",
        "    print(dog2.name)  # Charlie\n",
        "\n",
        "    # Changing class variable (careful!)\n",
        "    Dog.species = \"Doggo\"\n",
        "    print(dog1.species)  # Doggo\n",
        "    print(dog2.species)  # Doggo\n",
        "\n",
        "**When to Use What?**\n",
        "\n",
        "**Class variables are great for:**\n",
        "\n",
        "* Constants or settings (like species, pi, or company_name)\n",
        "\n",
        "* Tracking data shared by all objects (like a counter)\n",
        "\n",
        "**Instance variables are best for:**\n",
        "\n",
        "Personal details or unique data per object (name, email, balance, etc.)"
      ],
      "metadata": {
        "id": "EgRV3txIoZCP"
      }
    },
    {
      "cell_type": "markdown",
      "source": [
        "## **18. What is multiple inheritance in Python?**\n",
        "\n",
        "Multiple inheritance in Python refers to a feature where a class can inherit from more than one parent class. This allows the child class to inherit attributes and methods from multiple classes, giving it more functionality and flexibility.\n",
        "\n",
        "**Basic Example:**\n",
        "\n",
        "    class A:\n",
        "        def method_a(self):\n",
        "            print(\"Method from class A\")\n",
        "\n",
        "    class B:\n",
        "        def method_b(self):\n",
        "            print(\"Method from class B\")\n",
        "\n",
        "    class C(A, B):  # Multiple inheritance\n",
        "        def method_c(self):\n",
        "            print(\"Method from class C\")\n",
        "\n",
        "    # Usage\n",
        "    obj = C()\n",
        "    obj.method_a()  # From class A\n",
        "    obj.method_b()  # From class B\n",
        "    obj.method_c()  # From class C\n",
        "    Output:\n",
        "    Method from class A\n",
        "    Method from class B\n",
        "    Method from class C\n",
        "\n",
        "**Why use it?**\n",
        "\n",
        "* Reuse code from multiple sources.\n",
        "\n",
        "* Compose behaviors from different classes.\n",
        "\n"
      ],
      "metadata": {
        "id": "PQbrNYhbpviz"
      }
    },
    {
      "cell_type": "markdown",
      "source": [
        "## **19. Explain the purpose of ‘’__str__’ and ‘__repr__’ ‘ methods in Python?**\n",
        "\n",
        "** __str__ **\n",
        "\n",
        "* \"User-friendly\" string representation\n",
        "\n",
        "* Purpose: Used by str() and print() to return a readable, human-friendly string.\n",
        "\n",
        "* Goal: To describe the object in a way that’s easy to read for end users.\n",
        "\n",
        "\n",
        "\n",
        "    class Person:\n",
        "    \n",
        "    def __init__(self, name):\n",
        "        self.name = name\n",
        "\n",
        "    def __str__(self):\n",
        "        return f\"This is {self.name}\"\n",
        "\n",
        "    p = Person(\"Alice\")\n",
        "    print(p)          # Output: This is Alice\n",
        "    print(str(p))     # Same: This is Alice\n",
        "\n",
        "** __repr__ **\n",
        "\n",
        "* \"Developer-friendly\" string representation\n",
        "\n",
        "* Purpose: Used by repr() and when inspecting objects in the interpreter.\n",
        "\n",
        "* Goal: To give an unambiguous, often code-like string that could be used to recreate the object (ideally).\n",
        "\n",
        "      class Person:\n",
        "        def __init__(self, name):\n",
        "          self.name = name\n",
        "\n",
        "        def __repr__(self):\n",
        "          return f\"Person('{self.name}')\"\n",
        "\n",
        "      p = Person(\"Alice\")\n",
        "      print(repr(p))    # Output: Person('Alice')\n",
        "\n",
        "![image.png](data:image/png;base64,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)\n"
      ],
      "metadata": {
        "id": "vvPGS29kIsUf"
      }
    },
    {
      "cell_type": "markdown",
      "source": [
        "## **20. What is multiple inheritance in Python?**\n",
        "\n",
        "The super() function in Python is super useful and it's all about making inheritance easier and cleaner to work with, especially in classes with multiple inheritance or when overriding methods.\n",
        "\n",
        "**What super() Does**\n",
        "\n",
        "super() gives you access to methods and properties from a parent (super) class, without needing to explicitly name it.\n",
        "\n",
        "**Why Use super()?**\n",
        "\n",
        "* Avoid hardcoding the parent class name\n",
        "\n",
        "* Support multiple inheritance and MRO (Method Resolution Order)\n",
        "\n",
        "* Make code cleaner and more maintainable\n",
        "\n",
        "**Example: Basic Use**\n",
        "\n",
        "    class Animal:\n",
        "        def speak(self):\n",
        "            print(\"Animal speaks\")\n",
        "\n",
        "    class Dog(Animal):\n",
        "        def speak(self):\n",
        "            super().speak()  # Calls Animal's speak()\n",
        "            print(\"Dog barks\")\n",
        "\n",
        "    d = Dog()\n",
        "    d.speak()\n",
        "\n",
        "    # Output:\n",
        "    Animal speaks\n",
        "    Dog barks\n",
        "\n",
        "**Example: With __init__**\n",
        "\n",
        "    class Person:\n",
        "        def __init__(self, name):\n",
        "            self.name = name\n",
        "\n",
        "    class Employee(Person):\n",
        "        def __init__(self, name, job):\n",
        "            super().__init__(name)  # Call Person's __init__\n",
        "            self.job = job\n",
        "\n",
        "* Without super(), you'd have to manually call Person.__init__(self, name), which is more error-prone and less flexible.\n",
        "\n",
        "**In Multiple Inheritance**\n",
        "\n",
        "In complex inheritance setups, super() plays nice with Python's MRO to avoid repeating the same calls.\n",
        "\n",
        "    class A:\n",
        "        def greet(self):\n",
        "            print(\"Hello from A\")\n",
        "\n",
        "    class B(A):\n",
        "        def greet(self):\n",
        "            super().greet()\n",
        "            print(\"Hello from B\")\n",
        "\n",
        "    class C(A):\n",
        "        def greet(self):\n",
        "            super().greet()\n",
        "            print(\"Hello from C\")\n",
        "\n",
        "    class D(B, C):\n",
        "        def greet(self):\n",
        "            super().greet()\n",
        "            print(\"Hello from D\")\n",
        "\n",
        "    d = D()\n",
        "    d.greet()\n",
        "\n",
        "    # Output:\n",
        "    Hello from A\n",
        "    Hello from C\n",
        "    Hello from B\n",
        "    Hello from D\n",
        "\n",
        "\n"
      ],
      "metadata": {
        "id": "eVPuRjtnpqfv"
      }
    },
    {
      "cell_type": "markdown",
      "source": [
        "## **21.  What is the significance of the __del__ method in Python?**\n",
        "\n",
        "The __del__ method in Python is a special method called a destructor. It is automatically invoked when an object is about to be destroyed — usually when there are no more references to it.\n",
        "\n",
        "**What is __del__ used for?**\n",
        "\n",
        "* To clean up resources before the object is removed from memory.\n",
        "\n",
        "* For example: Closing files, releasing network connections, or cleaning up memory-heavy objects.\n",
        "\n",
        "**Basic Example:**\n",
        "\n",
        "    class FileHandler:\n",
        "        def __init__(self, filename):\n",
        "            self.file = open(filename, 'r')\n",
        "            print(\"File opened\")\n",
        "\n",
        "        def __del__(self):\n",
        "            print(\"Destructor called\")\n",
        "            self.file.close()\n",
        "            print(\"File closed\")\n",
        "\n",
        "    handler = FileHandler(\"example.txt\")\n",
        "    del handler  # Manually trigger destructor\n",
        "    \n",
        "    # Output:\n",
        "    File opened\n",
        "    Destructor called\n",
        "    File closed\n",
        "\n",
        "**Important Notes:**\n",
        "\n",
        "* Unpredictable timing: __del__ is called when Python's garbage collector deletes the object, not always when you think. So don’t rely on it for critical cleanup.\n",
        "\n",
        "* Circular references: If there are circular references, the object might never get deleted, and __del__ may not run.\n",
        "\n",
        "* Exceptions in __del__ are ignored: If it crashes, Python won’t show an error — it silently ignores it.\n",
        "\n"
      ],
      "metadata": {
        "id": "w-AsMWItLCiM"
      }
    },
    {
      "cell_type": "markdown",
      "source": [
        "## **22.   What is the difference between @staticmethod and @classmethod in Python?**\n",
        "\n",
        "**@staticmethod**\n",
        "\n",
        "* Does not take self or cls as the first argument.\n",
        "\n",
        "* It belongs to the class, but doesn’t know about the instance or the class itself.\n",
        "\n",
        "* Used when the method doesn’t depend on instance or class data — it's basically just namespaced inside the class.\n",
        "\n",
        "**Example:**\n",
        "\n",
        "    class MathTools:\n",
        "        @staticmethod\n",
        "        def add(a, b):\n",
        "            return a + b\n",
        "\n",
        "    print(MathTools.add(5, 3))  # No need to create an instance\n",
        "\n",
        "**@classmethod**\n",
        "\n",
        "* Takes cls (the class itself) as the first argument.\n",
        "\n",
        "* Can access and modify class-level data.\n",
        "\n",
        "* Useful for factory methods or when you want the method to be aware of which class it’s being called from (especially in inheritance).\n",
        "\n",
        "**Example:**\n",
        "\n",
        "    class Book:\n",
        "        books_created = 0\n",
        "\n",
        "        def __init__(self, title):\n",
        "            self.title = title\n",
        "            Book.books_created += 1\n",
        "\n",
        "        @classmethod\n",
        "        def get_book_count(cls):\n",
        "            return cls.books_created\n",
        "    print(Book.get_book_count())  # ✅ Class-level method\n",
        "\n",
        "![image.png](data:image/png;base64,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)\n",
        "\n",
        "\n",
        "![image.png](data:image/png;base64,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)\n"
      ],
      "metadata": {
        "id": "21qHLXrhLp1S"
      }
    },
    {
      "cell_type": "markdown",
      "source": [
        "## **23.   How does polymorphism work in Python with inheritance?**\n",
        "\n",
        "**Polymorphism with Inheritance in Python**\n",
        "\n",
        "    # Let’s say we have a base class with a method, and multiple subclasses override that method:\n",
        "\n",
        "    class Animal:\n",
        "        def speak(self):\n",
        "            return \"Some sound\"\n",
        "\n",
        "    class Dog(Animal):\n",
        "        def speak(self):\n",
        "            return \"Woof!\"\n",
        "\n",
        "    class Cat(Animal):\n",
        "        def speak(self):\n",
        "            return \"Meow!\"\n",
        "    # Now we can treat all animals polymorphically:\n",
        "\n",
        "    animals = [Dog(), Cat()]\n",
        "\n",
        "    for animal in animals:\n",
        "      print(animal.speak())  # No matter the subclass, we can call .speak()\n",
        "    \n",
        "    # Output:\n",
        "    Woof!\n",
        "    Meow!\n",
        "\n",
        "    # Each object behaves according to its actual class, even though we’re treating them as Animal objects.\n",
        "\n",
        "**Why is this Useful?**\n",
        "\n",
        "* Cleaner code — You don’t need to check the type of object.\n",
        "\n",
        "* Extensibility — You can add new animal types without changing existing logic.\n",
        "\n",
        "* Interfaces without Interfaces — Python is duck-typed: \"If it walks like a duck and quacks like a duck...\"\n",
        "\n"
      ],
      "metadata": {
        "id": "gQepu8GZLwGF"
      }
    },
    {
      "cell_type": "markdown",
      "source": [
        "## **24.   What is method chaining in Python OOP?**\n",
        "\n",
        "Method chaining in Python (and in OOP in general) is a neat and clean coding style where you call multiple methods on the same object in a single line, like a chain — hence the name!\n",
        "\n",
        "**What Is Method Chaining?**\n",
        "\n",
        "* \"object.method1().method2().method3()\"\n",
        "\n",
        "* Each method returns the object itself (or another object), allowing the next method to be called immediately.\n",
        "\n",
        "**Example**\n",
        "\n",
        "    class Person:\n",
        "        def __init__(self, name):\n",
        "            self.name = name\n",
        "            self.skills = []\n",
        "\n",
        "        def add_skill(self, skill):\n",
        "            self.skills.append(skill)\n",
        "            return self  # Return self to enable chaining\n",
        "\n",
        "        def show_skills(self):\n",
        "            print(f\"{self.name}'s skills: {', '.join(self.skills)}\")\n",
        "            return self  # Optional chaining\n",
        "\n",
        "    # Method chaining in action\n",
        "    person = Person(\"Alex\")\n",
        "    person.add_skill(\"Python\").add_skill(\"Django\").add_skill(\"AI\").show_skills()\n",
        "    \n",
        "    # Output:\n",
        "    Alex's skills: Python, Django, AI\n",
        "\n",
        "**Why Use Method Chaining?**\n",
        "\n",
        "* Cleaner code (less repetition)\n",
        "\n",
        "* More fluent syntax (reads like a sentence)\n",
        "\n",
        "* Popular in APIs and builders (like Pandas, SQLAlchemy, etc.)"
      ],
      "metadata": {
        "id": "psc7mcMzL3O8"
      }
    },
    {
      "cell_type": "markdown",
      "source": [
        "## **25.    What is the purpose of the __call__ method in Python?**\n",
        "\n",
        "The __call__ method allows an object instance to be called like a function.\n",
        "When you write obj(), Python internally calls obj.__call__().\n",
        "\n",
        "**Purpose of __call__:**\n",
        "\n",
        "* To make objects behave like functions\n",
        "\n",
        "* Often used in:\n",
        "\n",
        "  - Function wrappers / decorators\n",
        "\n",
        "  - Custom callable objects\n",
        "\n",
        "  - Closures or command pattern implementations\n",
        "\n",
        "  - Machine learning models (e.g., __call__ in PyTorch)\n",
        "\n",
        "**Simple Example**\n",
        "\n",
        "    class Greeter:\n",
        "        def __init__(self, name):\n",
        "            self.name = name\n",
        "\n",
        "        def __call__(self, greeting):\n",
        "            return f\"{greeting}, {self.name}!\"\n",
        "\n",
        "    g = Greeter(\"Alice\")\n",
        "    print(g(\"Hello\"))  # Calls g.__call__(\"Hello\")\n",
        "    \n",
        "    # Output:\n",
        "    Hello, Alice!\n",
        "    \n",
        "    # Here, g looks like a function, but it's actually a callable object!\n",
        "\n",
        "**Real-World Example: Decorator-style**\n",
        "\n",
        "    class Multiplier:\n",
        "        def __init__(self, factor):\n",
        "            self.factor = factor\n",
        "\n",
        "        def __call__(self, number):\n",
        "            return number * self.factor\n",
        "\n",
        "    double = Multiplier(2)\n",
        "    triple = Multiplier(3)\n",
        "\n",
        "    print(double(5))  # 10\n",
        "    print(triple(5))  # 15\n",
        "    \n",
        "    # Each object \"remembers\" a multiplier and acts like a function.\n",
        "\n"
      ],
      "metadata": {
        "id": "ihShNRStL760"
      }
    },
    {
      "cell_type": "markdown",
      "source": [
        "#**Practical Questions**"
      ],
      "metadata": {
        "id": "UPh-IvFSPfd4"
      }
    },
    {
      "cell_type": "markdown",
      "source": [
        "### **1.    Create a parent class Animal with a method speak() that prints a generic message. Create a child class Dog that overrides the speak() method to print \"Bark!\".**"
      ],
      "metadata": {
        "id": "F6cG0zdQPlD1"
      }
    },
    {
      "cell_type": "code",
      "source": [
        "class Animal:\n",
        "    def speak(self):\n",
        "        print(\"Generic animal sound\")\n",
        "\n",
        "class Dog(Animal):\n",
        "    def speak(self):\n",
        "        print(\"Bark!\")\n",
        "\n",
        "a = Animal()\n",
        "a.speak()\n",
        "\n",
        "d = Dog()\n",
        "d.speak()\n"
      ],
      "metadata": {
        "colab": {
          "base_uri": "https://localhost:8080/"
        },
        "id": "w9GwJa3dPxao",
        "outputId": "702fcb70-697b-4d9e-f239-d3f865d66c6e"
      },
      "execution_count": 3,
      "outputs": [
        {
          "output_type": "stream",
          "name": "stdout",
          "text": [
            "Generic animal sound\n",
            "Bark!\n"
          ]
        }
      ]
    },
    {
      "cell_type": "markdown",
      "source": [
        "### **2.    Write a program to create an abstract class Shape with a method area(). Derive classes Circle and Rectangle from it and implement the area() method in both.**"
      ],
      "metadata": {
        "id": "ps71e4MQQO3i"
      }
    },
    {
      "cell_type": "code",
      "source": [
        "from abc import ABC, abstractmethod\n",
        "import math\n",
        "\n",
        "# Abstract base class\n",
        "class Shape(ABC):\n",
        "    @abstractmethod\n",
        "    def area(self):\n",
        "        pass\n",
        "\n",
        "# Circle class\n",
        "class Circle(Shape):\n",
        "    def __init__(self, radius):\n",
        "        self.radius = radius\n",
        "\n",
        "    def area(self):\n",
        "        return math.pi * self.radius ** 2\n",
        "\n",
        "# Rectangle class\n",
        "class Rectangle(Shape):\n",
        "    def __init__(self, width, height):\n",
        "        self.width = width\n",
        "        self.height = height\n",
        "\n",
        "    def area(self):\n",
        "        return self.width * self.height\n",
        "\n",
        "shapes = [Circle(6), Rectangle(3, 6)]\n",
        "\n",
        "for shape in shapes:\n",
        "    print(f\"{type(shape).__name__} area: {shape.area():.2f}\")\n"
      ],
      "metadata": {
        "colab": {
          "base_uri": "https://localhost:8080/"
        },
        "id": "weA83CM0Qp_7",
        "outputId": "7f7037d5-6b4c-4276-ca57-b93d8d67ccf7"
      },
      "execution_count": 4,
      "outputs": [
        {
          "output_type": "stream",
          "name": "stdout",
          "text": [
            "Circle area: 113.10\n",
            "Rectangle area: 18.00\n"
          ]
        }
      ]
    },
    {
      "cell_type": "markdown",
      "source": [
        "### **3.    Implement a multi-level inheritance scenario where a class Vehicle has an attribute type. Derive a class Car and further derive a class ElectricCar that adds a battery attribute.**"
      ],
      "metadata": {
        "id": "cDwQyISRQ8Z7"
      }
    },
    {
      "cell_type": "code",
      "source": [
        "# Base class\n",
        "class Vehicle:\n",
        "    def __init__(self, vehicle_type):\n",
        "        self.vehicle_type = vehicle_type\n",
        "\n",
        "    def display_info(self):\n",
        "        print(f\"Vehicle Type: {self.vehicle_type}\")\n",
        "\n",
        "# Derived class from Vehicle\n",
        "class Car(Vehicle):\n",
        "    def __init__(self, vehicle_type, brand):\n",
        "        super().__init__(vehicle_type)\n",
        "        self.brand = brand\n",
        "\n",
        "    def display_info(self):\n",
        "        super().display_info()\n",
        "        print(f\"Car Brand: {self.brand}\")\n",
        "\n",
        "# Further derived class from Car\n",
        "class ElectricCar(Car):\n",
        "    def __init__(self, vehicle_type, brand, battery_capacity):\n",
        "        super().__init__(vehicle_type, brand)\n",
        "        self.battery_capacity = battery_capacity\n",
        "\n",
        "    def display_info(self):\n",
        "        super().display_info()\n",
        "        print(f\"Battery Capacity: {self.battery_capacity} kWh\")\n",
        "\n",
        "my_ecar = ElectricCar(\"Four-wheeler\", \"Tesla\", 85)\n",
        "my_ecar.display_info()\n"
      ],
      "metadata": {
        "colab": {
          "base_uri": "https://localhost:8080/"
        },
        "id": "cY0OBRiNRCO2",
        "outputId": "e1408470-ee9c-49b2-983b-dc323b6154b1"
      },
      "execution_count": 5,
      "outputs": [
        {
          "output_type": "stream",
          "name": "stdout",
          "text": [
            "Vehicle Type: Four-wheeler\n",
            "Car Brand: Tesla\n",
            "Battery Capacity: 85 kWh\n"
          ]
        }
      ]
    },
    {
      "cell_type": "markdown",
      "source": [
        "### **4.    Implement a multi-level inheritance scenario where a class Vehicle has an attribute type. Derive a class Car and further derive a class ElectricCar that adds a battery attribute.**"
      ],
      "metadata": {
        "id": "KY8NhOdgRZd8"
      }
    },
    {
      "cell_type": "code",
      "source": [
        "# Base class\n",
        "class Bird:\n",
        "    def fly(self):\n",
        "        print(\"Bird is flying...\")\n",
        "\n",
        "# Derived class\n",
        "class Sparrow(Bird):\n",
        "    def fly(self):\n",
        "        print(\"Sparrow is flying high!\")\n",
        "\n",
        "# Derived class\n",
        "class Penguin(Bird):\n",
        "    def fly(self):\n",
        "        print(\"Penguins can't fly, they waddle!\")\n",
        "\n",
        "# Function that demonstrates polymorphism\n",
        "def bird_flight(bird):\n",
        "    bird.fly()  # Calls the appropriate fly() based on the object\n",
        "\n",
        "# Example usage\n",
        "birds = [Sparrow(), Penguin()]\n",
        "\n",
        "for b in birds:\n",
        "    bird_flight(b)\n"
      ],
      "metadata": {
        "colab": {
          "base_uri": "https://localhost:8080/"
        },
        "id": "YCdC1WhlRpQG",
        "outputId": "d5c32e68-0531-412e-a366-c96d6ce94f22"
      },
      "execution_count": 6,
      "outputs": [
        {
          "output_type": "stream",
          "name": "stdout",
          "text": [
            "Sparrow is flying high!\n",
            "Penguins can't fly, they waddle!\n"
          ]
        }
      ]
    },
    {
      "cell_type": "markdown",
      "source": [
        "### **5.     Write a program to demonstrate encapsulation by creating a class BankAccount with private attributes balance and methods to deposit, withdraw, and check balance.**"
      ],
      "metadata": {
        "id": "m_NOQkx2Rvss"
      }
    },
    {
      "cell_type": "code",
      "source": [
        "class BankAccount:\n",
        "    def __init__(self, initial_balance=0):\n",
        "        self.__balance = initial_balance  # private attribute\n",
        "\n",
        "    def deposit(self, amount):\n",
        "        if amount > 0:\n",
        "            self.__balance += amount\n",
        "            print(f\"Deposited: ${amount}\")\n",
        "        else:\n",
        "            print(\"Deposit amount must be positive.\")\n",
        "\n",
        "    def withdraw(self, amount):\n",
        "        if amount <= self.__balance:\n",
        "            self.__balance -= amount\n",
        "            print(f\"Withdrawn: ${amount}\")\n",
        "        else:\n",
        "            print(\"Insufficient balance.\")\n",
        "\n",
        "    def check_balance(self):\n",
        "        print(f\"Current Balance: ${self.__balance}\")\n",
        "\n",
        "account = BankAccount(100)\n",
        "account.check_balance()\n",
        "\n",
        "account.deposit(50)\n",
        "account.check_balance()\n",
        "\n",
        "account.withdraw(30)\n",
        "account.check_balance()\n",
        "\n",
        "account.withdraw(200)"
      ],
      "metadata": {
        "colab": {
          "base_uri": "https://localhost:8080/"
        },
        "id": "jUhkV8XVR_M9",
        "outputId": "61536b8e-bfd1-4b3a-f52f-c9c927324dee"
      },
      "execution_count": 7,
      "outputs": [
        {
          "output_type": "stream",
          "name": "stdout",
          "text": [
            "Current Balance: $100\n",
            "Deposited: $50\n",
            "Current Balance: $150\n",
            "Withdrawn: $30\n",
            "Current Balance: $120\n",
            "Insufficient balance.\n"
          ]
        }
      ]
    },
    {
      "cell_type": "markdown",
      "source": [
        "### **6.     Demonstrate runtime polymorphism using a method play() in a base class Instrument. Derive classes Guitar and Piano that implement their own version of play().**"
      ],
      "metadata": {
        "id": "Swi9St_UoyWS"
      }
    },
    {
      "cell_type": "code",
      "source": [
        "# Base class\n",
        "class Instrument:\n",
        "    def play(self):\n",
        "        print(\"The instrument is being played.\")\n",
        "\n",
        "# Derived class\n",
        "class Guitar(Instrument):\n",
        "    def play(self):\n",
        "        print(\"Strumming the guitar.\")\n",
        "\n",
        "# Derived class\n",
        "class Piano(Instrument):\n",
        "    def play(self):\n",
        "        print(\"Playing the piano.\")\n",
        "\n",
        "# Function to demonstrate runtime polymorphism\n",
        "def start_playing(instrument):\n",
        "    instrument.play()  # Polymorphic behavior\n",
        "\n",
        "# Example usage\n",
        "instruments = [Guitar(), Piano()]\n",
        "\n",
        "for inst in instruments:\n",
        "    start_playing(inst)\n"
      ],
      "metadata": {
        "colab": {
          "base_uri": "https://localhost:8080/"
        },
        "id": "tgwqWGRrpCod",
        "outputId": "b6f795e7-3d25-4e68-a062-1e965549fb31"
      },
      "execution_count": 8,
      "outputs": [
        {
          "output_type": "stream",
          "name": "stdout",
          "text": [
            "Strumming the guitar.\n",
            "Playing the piano.\n"
          ]
        }
      ]
    },
    {
      "cell_type": "markdown",
      "source": [
        "### **7.      Create a class MathOperations with a class method add_numbers() to add two numbers and a static method subtract_numbers() to subtract two numbers.**"
      ],
      "metadata": {
        "id": "CIMA2UijpI_0"
      }
    },
    {
      "cell_type": "code",
      "source": [
        "class MathOperations:\n",
        "    @classmethod\n",
        "    def add_numbers(cls, a, b):\n",
        "        return a + b\n",
        "\n",
        "    @staticmethod\n",
        "    def subtract_numbers(a, b):\n",
        "        return a - b\n",
        "\n",
        "sum_result = MathOperations.add_numbers(10, 5)\n",
        "diff_result = MathOperations.subtract_numbers(10, 5)\n",
        "\n",
        "print(f\"Sum: {sum_result}\")\n",
        "print(f\"Difference: {diff_result}\")\n"
      ],
      "metadata": {
        "colab": {
          "base_uri": "https://localhost:8080/"
        },
        "id": "9g-qrRZWpRvl",
        "outputId": "ccacf2b8-e60b-4747-8b99-cfef5a04bfce"
      },
      "execution_count": 9,
      "outputs": [
        {
          "output_type": "stream",
          "name": "stdout",
          "text": [
            "Sum: 15\n",
            "Difference: 5\n"
          ]
        }
      ]
    },
    {
      "cell_type": "markdown",
      "source": [
        "### **8.       Implement a class Person with a class method to count the total number of persons created.**"
      ],
      "metadata": {
        "id": "42lrQ-V0pe5r"
      }
    },
    {
      "cell_type": "code",
      "source": [
        "class Person:\n",
        "    count = 0  # Class variable to track total persons\n",
        "\n",
        "    def __init__(self, name):\n",
        "        self.name = name\n",
        "        Person.count += 1  # Increment on each new object\n",
        "\n",
        "    @classmethod\n",
        "    def total_persons(cls):\n",
        "        return cls.count\n",
        "\n",
        "p1 = Person(\"Alice\")\n",
        "p2 = Person(\"Bob\")\n",
        "p3 = Person(\"Charlie\")\n",
        "p4 = Person(\"Alexa\")\n",
        "\n",
        "print(f\"Total Persons Created: {Person.total_persons()}\")\n"
      ],
      "metadata": {
        "colab": {
          "base_uri": "https://localhost:8080/"
        },
        "id": "wZj7btfipwa9",
        "outputId": "79329080-24e0-4021-b414-b1d2ddb774a2"
      },
      "execution_count": 12,
      "outputs": [
        {
          "output_type": "stream",
          "name": "stdout",
          "text": [
            "Total Persons Created: 4\n"
          ]
        }
      ]
    },
    {
      "cell_type": "markdown",
      "source": [
        "### **9.       Write a class Fraction with attributes numerator and denominator. Override the str method to display the fraction as \"numerator/denominator.**"
      ],
      "metadata": {
        "id": "GoX0pqGqqEzd"
      }
    },
    {
      "cell_type": "code",
      "source": [
        "class Fraction:\n",
        "    def __init__(self, numerator, denominator):\n",
        "        self.numerator = numerator\n",
        "        self.denominator = denominator\n",
        "\n",
        "    def __str__(self):\n",
        "        return f\"{self.numerator}/{self.denominator}\"\n",
        "\n",
        "f1 = Fraction(5, 8)\n",
        "f2 = Fraction(10, 3)\n",
        "\n",
        "print(f\"First fraction: {f1}\")\n",
        "print(f\"Second fraction: {f2}\")\n"
      ],
      "metadata": {
        "colab": {
          "base_uri": "https://localhost:8080/"
        },
        "id": "m8Fcw01kqKpg",
        "outputId": "c42e1c9e-87e8-45cf-eaae-c497ccb47c35"
      },
      "execution_count": 13,
      "outputs": [
        {
          "output_type": "stream",
          "name": "stdout",
          "text": [
            "First fraction: 5/8\n",
            "Second fraction: 10/3\n"
          ]
        }
      ]
    },
    {
      "cell_type": "markdown",
      "source": [
        "### **10.        Demonstrate operator overloading by creating a class Vector and overriding the add method to add two vectors.**"
      ],
      "metadata": {
        "id": "MJXjZTC4qkvd"
      }
    },
    {
      "cell_type": "code",
      "source": [
        "class Vector:\n",
        "    def __init__(self, x, y):\n",
        "        self.x = x\n",
        "        self.y = y\n",
        "\n",
        "    def __add__(self, other):\n",
        "        # Overload the + operator to add two vectors\n",
        "        return Vector(self.x + other.x, self.y + other.y)\n",
        "\n",
        "    def __str__(self):\n",
        "        return f\"({self.x}, {self.y})\"\n",
        "\n",
        "v1 = Vector(2, 3)\n",
        "v2 = Vector(4, 5)\n",
        "\n",
        "v3 = v1 + v2  # This uses the overloaded __add__ method\n",
        "\n",
        "print(f\"v1: {v1}\")\n",
        "print(f\"v2: {v2}\")\n",
        "print(f\"v1 + v2 = {v3}\")\n"
      ],
      "metadata": {
        "colab": {
          "base_uri": "https://localhost:8080/"
        },
        "id": "5KazeCMNqsxr",
        "outputId": "cdb4b03e-e5c5-4a37-e19b-69578a4fd2ed"
      },
      "execution_count": 14,
      "outputs": [
        {
          "output_type": "stream",
          "name": "stdout",
          "text": [
            "v1: (2, 3)\n",
            "v2: (4, 5)\n",
            "v1 + v2 = (6, 8)\n"
          ]
        }
      ]
    },
    {
      "cell_type": "markdown",
      "source": [
        "### **11.        Create a class Person with attributes name and age. Add a method greet() that prints \"Hello, my name is {name} and I am {age} years old.**"
      ],
      "metadata": {
        "id": "ZKk_HQmUq4kp"
      }
    },
    {
      "cell_type": "code",
      "source": [
        "class Person:\n",
        "    def __init__(self, name, age):\n",
        "        self.name = name\n",
        "        self.age = age\n",
        "\n",
        "    def greet(self):\n",
        "        print(f\"Hello, my name is {self.name} and I am {self.age} years old.\")\n",
        "\n",
        "p1 = Person(\"Alice\", 25)\n",
        "p2 = Person(\"Bob\", 30)\n",
        "\n",
        "p1.greet()\n",
        "p2.greet()\n"
      ],
      "metadata": {
        "colab": {
          "base_uri": "https://localhost:8080/"
        },
        "id": "U6wUTNF_skYm",
        "outputId": "f2751bc9-963c-479d-ba87-1b3bafb8b1c8"
      },
      "execution_count": 15,
      "outputs": [
        {
          "output_type": "stream",
          "name": "stdout",
          "text": [
            "Hello, my name is Alice and I am 25 years old.\n",
            "Hello, my name is Bob and I am 30 years old.\n"
          ]
        }
      ]
    },
    {
      "cell_type": "markdown",
      "source": [
        "### **12.        Implement a class Student with attributes name and grades. Create a method average_grade() to compute the average of the grades.**"
      ],
      "metadata": {
        "id": "jFGpU9uqsuJX"
      }
    },
    {
      "cell_type": "code",
      "source": [
        "class Student:\n",
        "    def __init__(self, name, grades):\n",
        "        self.name = name\n",
        "        self.grades = grades  # list of grades\n",
        "\n",
        "    def average_grade(self):\n",
        "        if self.grades:\n",
        "            return sum(self.grades) / len(self.grades)\n",
        "        else:\n",
        "            return 0  # Avoid division by zero\n",
        "\n",
        "s1 = Student(\"Alice\", [85, 90, 78])\n",
        "s2 = Student(\"Bob\", [92, 88, 95, 100])\n",
        "\n",
        "print(f\"{s1.name}'s average grade: {s1.average_grade():.2f}\")\n",
        "print(f\"{s2.name}'s average grade: {s2.average_grade():.2f}\")\n"
      ],
      "metadata": {
        "colab": {
          "base_uri": "https://localhost:8080/"
        },
        "id": "8K-d_egxs2WY",
        "outputId": "1a552896-4b83-4d61-ed03-0fd6efa31598"
      },
      "execution_count": 16,
      "outputs": [
        {
          "output_type": "stream",
          "name": "stdout",
          "text": [
            "Alice's average grade: 84.33\n",
            "Bob's average grade: 93.75\n"
          ]
        }
      ]
    },
    {
      "cell_type": "markdown",
      "source": [
        "### **13.         Create a class Rectangle with methods set_dimensions() to set the dimensions and area() to calculate the area.**"
      ],
      "metadata": {
        "id": "jrOf9TmbtOa8"
      }
    },
    {
      "cell_type": "code",
      "source": [
        "class Rectangle:\n",
        "    def __init__(self):\n",
        "        self.length = 0\n",
        "        self.width = 0\n",
        "\n",
        "    def set_dimensions(self, length, width):\n",
        "        self.length = length\n",
        "        self.width = width\n",
        "\n",
        "    def area(self):\n",
        "        return self.length * self.width\n",
        "\n",
        "rect = Rectangle()\n",
        "rect.set_dimensions(5, 3)\n",
        "print(f\"Area of the rectangle: {rect.area()}\")\n"
      ],
      "metadata": {
        "colab": {
          "base_uri": "https://localhost:8080/"
        },
        "id": "Axn_R21vtSYs",
        "outputId": "c1430738-cdcd-4dff-ef10-555832a4847d"
      },
      "execution_count": 17,
      "outputs": [
        {
          "output_type": "stream",
          "name": "stdout",
          "text": [
            "Area of the rectangle: 15\n"
          ]
        }
      ]
    },
    {
      "cell_type": "markdown",
      "source": [
        "### **14. Create a class Employee with a method calculate_salary() that computes the salary based on hours worked and hourly rate. Create a derived class Manager that adds a bonus to the salary.**"
      ],
      "metadata": {
        "id": "cQ_78WvqtcRx"
      }
    },
    {
      "cell_type": "code",
      "source": [
        "# Base class\n",
        "class Employee:\n",
        "    def __init__(self, name, hours_worked, hourly_rate):\n",
        "        self.name = name\n",
        "        self.hours_worked = hours_worked\n",
        "        self.hourly_rate = hourly_rate\n",
        "\n",
        "    def calculate_salary(self):\n",
        "        return self.hours_worked * self.hourly_rate\n",
        "\n",
        "# Derived class\n",
        "class Manager(Employee):\n",
        "    def __init__(self, name, hours_worked, hourly_rate, bonus):\n",
        "        super().__init__(name, hours_worked, hourly_rate)\n",
        "        self.bonus = bonus\n",
        "\n",
        "    def calculate_salary(self):\n",
        "        base_salary = super().calculate_salary()\n",
        "        return base_salary + self.bonus\n",
        "\n",
        "# Example usage\n",
        "emp = Employee(\"Alice\", 40, 20)\n",
        "mgr = Manager(\"Bob\", 40, 30, 500)\n",
        "\n",
        "print(f\"{emp.name}'s salary: {emp.calculate_salary()}\")\n",
        "print(f\"{mgr.name}'s salary (with bonus): {mgr.calculate_salary()}\")\n"
      ],
      "metadata": {
        "colab": {
          "base_uri": "https://localhost:8080/"
        },
        "id": "X-LRt5RstjQm",
        "outputId": "c5c47b09-4db3-4f30-9162-0262f124b59f"
      },
      "execution_count": 18,
      "outputs": [
        {
          "output_type": "stream",
          "name": "stdout",
          "text": [
            "Alice's salary: 800\n",
            "Bob's salary (with bonus): 1700\n"
          ]
        }
      ]
    },
    {
      "cell_type": "markdown",
      "source": [
        "### **15.  Create a class Product with attributes name, price, and quantity. Implement a method total_price() that calculates the total price of the product.**"
      ],
      "metadata": {
        "id": "iQXI4e8vttq-"
      }
    },
    {
      "cell_type": "code",
      "source": [
        "class Product:\n",
        "    def __init__(self, name, price, quantity):\n",
        "        self.name = name\n",
        "        self.price = price\n",
        "        self.quantity = quantity\n",
        "\n",
        "    def total_price(self):\n",
        "        return self.price * self.quantity\n",
        "\n",
        "item1 = Product(\"Laptop\", 800, 2)\n",
        "item2 = Product(\"Mouse\", 25, 4)\n",
        "\n",
        "print(f\"{item1.name} total price: {item1.total_price()}\")\n",
        "print(f\"{item2.name} total price: {item2.total_price()}\")\n"
      ],
      "metadata": {
        "colab": {
          "base_uri": "https://localhost:8080/"
        },
        "id": "V9iPhPOat6OR",
        "outputId": "25012619-1aab-4497-b72b-b55c2759b885"
      },
      "execution_count": 19,
      "outputs": [
        {
          "output_type": "stream",
          "name": "stdout",
          "text": [
            "Laptop total price: 1600\n",
            "Mouse total price: 100\n"
          ]
        }
      ]
    },
    {
      "cell_type": "markdown",
      "source": [
        "### **16.  Create a class Animal with an abstract method sound(). Create two derived classes Cow and Sheep that implement the sound() method.**"
      ],
      "metadata": {
        "id": "cvDXHdkcuAJd"
      }
    },
    {
      "cell_type": "code",
      "source": [
        "from abc import ABC, abstractmethod\n",
        "\n",
        "# Abstract base class\n",
        "class Animal(ABC):\n",
        "    @abstractmethod\n",
        "    def sound(self):\n",
        "        pass\n",
        "\n",
        "# Derived class\n",
        "class Cow(Animal):\n",
        "    def sound(self):\n",
        "        return \"Moo\"\n",
        "\n",
        "# Derived class\n",
        "class Sheep(Animal):\n",
        "    def sound(self):\n",
        "        return \"Baa\"\n",
        "\n",
        "cow = Cow()\n",
        "sheep = Sheep()\n",
        "\n",
        "print(f\"Cow says: {cow.sound()}\")\n",
        "print(f\"Sheep says: {sheep.sound()}\")\n"
      ],
      "metadata": {
        "colab": {
          "base_uri": "https://localhost:8080/"
        },
        "id": "q3fD1swEuGFs",
        "outputId": "bfd7a2ba-2ef3-4e56-8351-9a4c4ae971d3"
      },
      "execution_count": 20,
      "outputs": [
        {
          "output_type": "stream",
          "name": "stdout",
          "text": [
            "Cow says: Moo\n",
            "Sheep says: Baa\n"
          ]
        }
      ]
    },
    {
      "cell_type": "markdown",
      "source": [
        "### **17.  Create a class Animal with an abstract method sound(). Create two derived classes Cow and Sheep that implement the sound() method.**"
      ],
      "metadata": {
        "id": "RbaG78PPuQp_"
      }
    },
    {
      "cell_type": "code",
      "source": [
        "class Book:\n",
        "    def __init__(self, title, author, year_published):\n",
        "        self.title = title\n",
        "        self.author = author\n",
        "        self.year_published = year_published\n",
        "\n",
        "    def get_book_info(self):\n",
        "        return f\"'{self.title}' by {self.author} (Published in {self.year_published})\"\n",
        "\n",
        "book1 = Book(\"To Kill a Mockingbird\", \"Harper Lee\", 1960)\n",
        "book2 = Book(\"1984\", \"George Orwell\", 1949)\n",
        "\n",
        "print(book1.get_book_info())\n",
        "print(book2.get_book_info())\n"
      ],
      "metadata": {
        "colab": {
          "base_uri": "https://localhost:8080/"
        },
        "id": "YI6xGJmUuUm7",
        "outputId": "8fa77cef-5c53-4876-a43b-1b0e62e9c425"
      },
      "execution_count": 21,
      "outputs": [
        {
          "output_type": "stream",
          "name": "stdout",
          "text": [
            "'To Kill a Mockingbird' by Harper Lee (Published in 1960)\n",
            "'1984' by George Orwell (Published in 1949)\n"
          ]
        }
      ]
    },
    {
      "cell_type": "markdown",
      "source": [
        "### **18.   Create a class House with attributes address and price. Create a derived class Mansion that adds an attribute number_of_rooms.**"
      ],
      "metadata": {
        "id": "_4Kr62GgugeC"
      }
    },
    {
      "cell_type": "code",
      "source": [
        "# Base class\n",
        "class House:\n",
        "    def __init__(self, address, price):\n",
        "        self.address = address\n",
        "        self.price = price\n",
        "\n",
        "# Derived class\n",
        "class Mansion(House):\n",
        "    def __init__(self, address, price, number_of_rooms):\n",
        "        super().__init__(address, price)\n",
        "        self.number_of_rooms = number_of_rooms\n",
        "\n",
        "house1 = House(\"123 Maple Street\", 250000)\n",
        "mansion1 = Mansion(\"456 Grand Avenue\", 1500000, 10)\n",
        "\n",
        "print(f\"House: {house1.address}, Price: ${house1.price}\")\n",
        "print(f\"Mansion: {mansion1.address}, Price: ${mansion1.price}, Rooms: {mansion1.number_of_rooms}\")\n"
      ],
      "metadata": {
        "colab": {
          "base_uri": "https://localhost:8080/"
        },
        "id": "h_iy0IDyulL6",
        "outputId": "258eaca6-317f-4018-a543-3356920b9a98"
      },
      "execution_count": 22,
      "outputs": [
        {
          "output_type": "stream",
          "name": "stdout",
          "text": [
            "House: 123 Maple Street, Price: $250000\n",
            "Mansion: 456 Grand Avenue, Price: $1500000, Rooms: 10\n"
          ]
        }
      ]
    }
  ]
}